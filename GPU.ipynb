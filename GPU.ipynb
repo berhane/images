{
 "cells": [
  {
   "cell_type": "markdown",
   "metadata": {},
   "source": [
    "# GPU\n",
    "\n",
    "This simple appliance allows you to easily reserve a bare metal node with a GPU accelerator (availability permitting)."
   ]
  },
  {
   "cell_type": "markdown",
   "metadata": {},
   "source": [
    "## Create experiment container\n",
    "\n",
    "This container provides the following:\n",
    "\n",
    "- One node with an attached GPU\n",
    "- One Floating IP\n",
    "\n",
    "### Configuration"
   ]
  },
  {
   "cell_type": "code",
   "execution_count": null,
   "metadata": {},
   "outputs": [],
   "source": [
    "OS_PROJECT_NAME=\"$OS_PROJECT_NAME\"\n",
    "OS_REGION_NAME=\"CHI@TACC\" # Currently only CHI@TACC has GPU nodes\n",
    "IMAGE=CC-CentOS7-CUDA10\n",
    "NODE_COUNT=1\n",
    "\n",
    "# A unique name for most provisioned resources to avoid collisions\n",
    "RESOURCE_NAME=\"${USER}-gpu-$(date +%b%d)\""
   ]
  },
  {
   "cell_type": "markdown",
   "metadata": {},
   "source": [
    "### Reservation"
   ]
  },
  {
   "cell_type": "code",
   "execution_count": null,
   "metadata": {},
   "outputs": [],
   "source": [
    "lease_name=\"$RESOURCE_NAME\"\n",
    "network_name=\"$RESOURCE_NAME\"\n",
    "public_network_id=$(openstack network show public -f value -c id)\n",
    "\n",
    "blazar lease-create \\\n",
    "  --physical-reservation min=\"$NODE_COUNT\",max=\"$NODE_COUNT\",resource_properties=\"[\\\"=\\\", \\\"\\$gpu.gpu\\\", \\\"True\\\"]\" \\\n",
    "  --reservation resource_type=virtual:floatingip,network_id=\"$public_network_id\",amount=1 \\\n",
    "  --start-date \"$(date +'%Y-%m-%d %H:%M')\" \\\n",
    "  --end-date \"$(date +'%Y-%m-%d %H:%M' -d'+1 day')\" \\\n",
    "  \"$lease_name\"\n",
    "\n",
    "# Wait for lease to start\n",
    "timeout 300 bash -c 'until [[ $(blazar lease-show $0 -f value -c status) == \"ACTIVE\" ]]; do sleep 1; done' \"$lease_name\" \\\n",
    "    && echo \"Lease started successfully!\"\n",
    "\n",
    "#\n",
    "# Fetch information about which resources were reserved for later use\n",
    "#\n",
    "\n",
    "reservations=$(blazar lease-show \"$lease_name\" -f json \\\n",
    "  | jq -r '.reservations')\n",
    "host_reservation_id=$(jq -rs 'map(select(.resource_type==\"physical:host\"))[].id' <<<\"$reservations\")\n",
    "fip_reservation_id=$(jq -rs 'map(select(.resource_type==\"virtual:floatingip\"))[].id' <<<\"$reservations\")\n",
    "\n",
    "fip=$(openstack floating ip list --tags \"reservation:$fip_reservation_id\" -f json)\n",
    "fip_id=$(jq -r 'map(.ID)[0]' <<<\"$fip\")\n",
    "fip_addr=$(jq -r 'map(.[\"Floating IP Address\"])[0]' <<<\"$fip\")"
   ]
  },
  {
   "cell_type": "markdown",
   "metadata": {},
   "source": [
    "### Provisioning GPU nodes\n",
    "\n",
    "It will take approximately 10 minutes for all resources to be successfully provisioned."
   ]
  },
  {
   "cell_type": "code",
   "execution_count": null,
   "metadata": {},
   "outputs": [],
   "source": [
    "# Ensure your Jupyter keypair is present\n",
    "key_pair_upload\n",
    "\n",
    "sharednet=$(openstack network show sharednet1 -f value -c id)\n",
    "\n",
    "openstack server create \"$RESOURCE_NAME\" \\\n",
    "  --flavor baremetal \\\n",
    "  --image \"$IMAGE\" \\\n",
    "  --nic net-id=\"$sharednet\" \\\n",
    "  --key-name \"$USER-jupyter\" \\\n",
    "  --hint reservation=\"$host_reservation_id\" \\\n",
    "  --max \"$NODE_COUNT\""
   ]
  },
  {
   "cell_type": "markdown",
   "metadata": {},
   "source": [
    "## Using bare metal nodes\n",
    "\n",
    "You can log in to the bare metal node as the `cc` user. The SSH authentication should have been set up automatically for you. You can run commands remotely in this notebook, or you can open a new Terminal in JupyterLab to get an interactive session."
   ]
  },
  {
   "cell_type": "code",
   "execution_count": null,
   "metadata": {},
   "outputs": [],
   "source": [
    "ssh cc@\"$fip_addr\" sh -c 'Hello from $(hostname)!'"
   ]
  },
  {
   "cell_type": "markdown",
   "metadata": {},
   "source": [
    "## Release resources\n",
    "\n",
    "If you finish with your experimentation before your lease expires, it's a good idea to release your resources and tear down your environment to avoid excessive charges against your allocation. You can run the following to tear down the environment (commented out to prevent accidental deletions):"
   ]
  },
  {
   "cell_type": "code",
   "execution_count": null,
   "metadata": {},
   "outputs": [],
   "source": [
    "#blazar lease-delete \"$lease_name\""
   ]
  },
  {
   "cell_type": "code",
   "execution_count": null,
   "metadata": {},
   "outputs": [],
   "source": []
  }
 ],
 "metadata": {
  "kernelspec": {
   "display_name": "Bash",
   "language": "bash",
   "name": "bash"
  },
  "language_info": {
   "codemirror_mode": "shell",
   "file_extension": ".sh",
   "mimetype": "text/x-sh",
   "name": "bash"
  }
 },
 "nbformat": 4,
 "nbformat_minor": 4
}
